{
 "cells": [
  {
   "cell_type": "code",
   "execution_count": 18,
   "id": "14297668",
   "metadata": {},
   "outputs": [],
   "source": [
    "import os\n",
    "import glob\n",
    "import xml.etree.ElementTree as ET\n",
    "from xml.dom import minidom"
   ]
  },
  {
   "cell_type": "code",
   "execution_count": 19,
   "id": "c017bea8",
   "metadata": {},
   "outputs": [],
   "source": [
    "FCPXML_BASE_DIR = '..\\\\..\\\\..\\\\CallanSpeech\\\\static'\n",
    "OUT_XML_BASE_DIR = '.\\\\temp'"
   ]
  },
  {
   "cell_type": "code",
   "execution_count": 20,
   "id": "39de1328",
   "metadata": {},
   "outputs": [],
   "source": [
    "def parse_time(time_str):\n",
    "    if '/' in time_str:\n",
    "        numerator, denominator = time_str[:-1].split('/')\n",
    "        return round(float(numerator) / float(denominator), 3)\n",
    "    else:\n",
    "        return round(float(time_str[:-1]), 3)"
   ]
  },
  {
   "cell_type": "code",
   "execution_count": 21,
   "id": "42675b99",
   "metadata": {},
   "outputs": [
    {
     "name": "stdout",
     "output_type": "stream",
     "text": [
      "{'name': 'Speaker1', 'start': 0.076, 'duration': 1.2, 'note': \"What's this?\", 'image': '../p1.ng', 'translation': 'Что это?'}\n",
      "Speaker1: {'name': 'Speaker1', 'start': 0.076, 'duration': 1.2, 'note': \"What's this?\", 'image': '../p1.ng', 'translation': 'Что это?'}\n",
      "Speaker2: {'name': 'Speaker2', 'start': 1.3, 'duration': 1.0, 'note': 'This is a pen', 'image': '../p2.ng', 'translation': None}\n"
     ]
    }
   ],
   "source": [
    "class Speaker:\n",
    "    def __init__(self, name, start, duration, note, image, translation):\n",
    "        self.name = name\n",
    "        self.start = start\n",
    "        self.duration = duration\n",
    "        self.note = note\n",
    "        self.image = image\n",
    "        self.translation = translation\n",
    "        \n",
    "class SpeakersCollection:\n",
    "    def __init__(self):\n",
    "        self.collection = {}\n",
    "\n",
    "    def add_speaker(self, id, speaker):\n",
    "        if id not in self.collection:\n",
    "            self.collection[id] = {}\n",
    "        self.collection[id][speaker.name] = speaker\n",
    "        \n",
    "    def get_speaker(self, id, name):\n",
    "        if id in self.collection and name in self.collection[id]:\n",
    "            return self.collection[id][name]\n",
    "        else:\n",
    "            return None\n",
    "\n",
    "    def get_all_speakers_for_id(self, id):\n",
    "        if id in self.collection:\n",
    "            return self.collection[id]\n",
    "        else:\n",
    "            return None        \n",
    "        \n",
    "speakers = SpeakersCollection()\n",
    "speaker1 = Speaker('Speaker1', 0.076, 1.2, \"What's this?\", '../p1.ng', 'Что это?')\n",
    "speaker2 = Speaker('Speaker2', 1.3, 1.0, 'This is a pen', '../p2.ng', None)\n",
    "speakers.add_speaker(0, speaker1)\n",
    "speakers.add_speaker(0, speaker2)\n",
    "\n",
    "print(vars(speakers.get_speaker(0, 'Speaker1')))\n",
    "all_speakers_0 = speakers.get_all_speakers_for_id(0)\n",
    "for name, speaker in all_speakers_0.items():\n",
    "    print(f'{name}: {vars(speaker)}')\n"
   ]
  },
  {
   "cell_type": "code",
   "execution_count": 31,
   "id": "3f853634",
   "metadata": {},
   "outputs": [],
   "source": [
    "def convert_fcpxml_to_xml(fcpxml_file):\n",
    "    source = None\n",
    "    start = None\n",
    "    duration = None\n",
    "    \n",
    "    tree = ET.parse(fcpxml_file)\n",
    "    root = tree.getroot()\n",
    "    resources = root.find('resources')\n",
    "    if(resources):\n",
    "        asset = resources.find('asset')\n",
    "        if(asset is not None):\n",
    "            src = asset.attrib['src']\n",
    "            start = asset.attrib['start']\n",
    "            duration = asset.attrib['duration']\n",
    "            \n",
    "            if((src is None) or (start is None) or (duration is None)):\n",
    "                print('src or start or duration is None', fcpxml_file)\n",
    "                return None\n",
    "            \n",
    "    start = parse_time(start)\n",
    "    duration = parse_time(duration)\n",
    "            \n",
    "    spine = root.find('.//spine')\n",
    "    if(spine is None):\n",
    "        print('spine is None', fcpxml_file)\n",
    "        return None\n",
    "    \n",
    "    asset_clips = spine.findall('asset-clip')\n",
    "    \n",
    "    item_id = -1\n",
    "    speakers = SpeakersCollection()\n",
    "    \n",
    "    for asset_clip in asset_clips:\n",
    "        asset_name, asset_start, asset_duration = asset_clip.attrib['name'], asset_clip.attrib['start'], asset_clip.attrib['duration']\n",
    "        if((asset_name is None) or (asset_start is None) or (asset_duration is None)):\n",
    "            print('asset_name or asset_start or asset_duration is None', fcpxml_file)\n",
    "            return None\n",
    "\n",
    "        asset_start = parse_time(asset_start)\n",
    "        asset_duration = parse_time(asset_duration)        \n",
    "        \n",
    "        if(asset_name == 'Speaker1'):\n",
    "            item_id += 1\n",
    "        elif (asset_name != 'Speaker2'):\n",
    "            print('bad speaker name', asset_name, asset_start, item_id, fcpxml_file)\n",
    "            return None\n",
    "        \n",
    "        note, translation, image, translation = asset_clip.find('note'), asset_clip.find('translation'), \\\n",
    "                                                asset_clip.find('image'), asset_clip.find('translation')\n",
    "        \n",
    "        speaker = Speaker(name=asset_name, start=asset_start, duration=asset_duration, note=note.text, \\\n",
    "                          image=image.text, translation=translation.text)\n",
    "        speakers.add_speaker(item_id, speaker)\n",
    "            \n",
    "    return start, duration, speakers\n",
    "        "
   ]
  },
  {
   "cell_type": "code",
   "execution_count": 39,
   "id": "512f6fc7",
   "metadata": {},
   "outputs": [],
   "source": [
    "def convert_all():\n",
    "    good_counter = bad_counter = 0\n",
    "    items = os.listdir(FCPXML_BASE_DIR)\n",
    "    for item in items:\n",
    "        if(item.startswith('Part')):\n",
    "            part_path = os.path.join(FCPXML_BASE_DIR, item)\n",
    "            part_path_dirs = os.listdir(part_path)\n",
    "            for lesson_dir in part_path_dirs:\n",
    "                full_lesson_dir = os.path.join(part_path, lesson_dir)\n",
    "                if (os.path.isdir(full_lesson_dir) and lesson_dir.startswith('Lesson')):\n",
    "                    for fcpxml_file in glob.glob(os.path.join(full_lesson_dir, '*.fcpxml')):\n",
    "                        general_start, general_duration, speakers = convert_fcpxml_to_xml(fcpxml_file)\n",
    "                        if(speakers is not None):\n",
    "                            good_counter += 1                               \n",
    "                            output_root = ET.Element(\"items\", start=str(general_start), duration=str(general_duration))\n",
    "                            loc_ru_root = ET.Element(\"items\")\n",
    "                            for id, speakers in speakers.collection.items():\n",
    "                                for name, speaker in speakers.items():\n",
    "                                    output_item = ET.SubElement(output_root, \"item\", id=str(id), \\\n",
    "                                                                start=str(speaker.start), duration=str(speaker.duration))\n",
    "                                    person = ET.SubElement(output_item, \"person\")\n",
    "                                    person.text = 'Teacher' if speaker.name == 'Speaker1' else 'Student'\n",
    "                                    note = ET.SubElement(output_item, \"text\")\n",
    "                                    note.text = speaker.note\n",
    "                                    image = ET.SubElement(output_item, \"image\")\n",
    "                                    image.text = speaker.image\n",
    "                                    \n",
    "                                    loc_ru_output_item = ET.SubElement(loc_ru_root, \"item\", id=str(id))\n",
    "                                    translation = ET.SubElement(loc_ru_output_item, \"translation\")\n",
    "                                    translation.text = speaker.translation\n",
    "                                                            \n",
    "                            short_name = os.path.basename(fcpxml_file).split('.', 1)[0]\n",
    "                            output_xml = os.path.join(OUT_XML_BASE_DIR, short_name + '.xml')\n",
    "                            \n",
    "                            xml_output_string = minidom.parseString(ET.tostring(output_root)).toprettyxml(indent=\" \")\n",
    "                            with open(output_xml, \"w\", encoding='utf-8') as f:\n",
    "                                f.write(xml_output_string)\n",
    "                                \n",
    "                            output_loc_ru_xml = os.path.join(OUT_XML_BASE_DIR, short_name + '_translations_ru.xml')\n",
    "                            xml_output_string = minidom.parseString(ET.tostring(loc_ru_root)).toprettyxml(indent=\" \")\n",
    "                            with open(output_loc_ru_xml, \"w\", encoding='utf-8') as f:\n",
    "                                f.write(xml_output_string)\n",
    "                            \n",
    "                            #return\n",
    "                        else:\n",
    "                            bad_counter += 1\n",
    "\n",
    "                            \n",
    "    print(good_counter, bad_counter)\n",
    "                "
   ]
  },
  {
   "cell_type": "code",
   "execution_count": 40,
   "id": "04a3568c",
   "metadata": {
    "scrolled": true
   },
   "outputs": [
    {
     "name": "stdout",
     "output_type": "stream",
     "text": [
      "59 0\n"
     ]
    }
   ],
   "source": [
    "convert_all()"
   ]
  },
  {
   "cell_type": "code",
   "execution_count": null,
   "id": "0fb3b5dd",
   "metadata": {},
   "outputs": [],
   "source": []
  },
  {
   "cell_type": "code",
   "execution_count": null,
   "id": "49c3bc95",
   "metadata": {},
   "outputs": [],
   "source": []
  }
 ],
 "metadata": {
  "kernelspec": {
   "display_name": "Python 3 (ipykernel)",
   "language": "python",
   "name": "python3"
  },
  "language_info": {
   "codemirror_mode": {
    "name": "ipython",
    "version": 3
   },
   "file_extension": ".py",
   "mimetype": "text/x-python",
   "name": "python",
   "nbconvert_exporter": "python",
   "pygments_lexer": "ipython3",
   "version": "3.10.8"
  }
 },
 "nbformat": 4,
 "nbformat_minor": 5
}
