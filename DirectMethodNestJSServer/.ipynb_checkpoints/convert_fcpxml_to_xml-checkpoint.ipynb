{
 "cells": [
  {
   "cell_type": "code",
   "execution_count": 18,
   "id": "14297668",
   "metadata": {},
   "outputs": [],
   "source": [
    "import os\n",
    "import glob\n",
    "import xml.etree.ElementTree as ET\n",
    "from xml.dom import minidom"
   ]
  },
  {
   "cell_type": "code",
   "execution_count": 19,
   "id": "c017bea8",
   "metadata": {},
   "outputs": [],
   "source": [
    "FCPXML_BASE_DIR = '..\\\\..\\\\..\\\\CallanSpeech\\\\static'\n",
    "OUT_XML_BASE_DIR = '.\\\\temp'"
   ]
  },
  {
   "cell_type": "code",
   "execution_count": 20,
   "id": "39de1328",
   "metadata": {},
   "outputs": [],
   "source": [
    "def parse_time(time_str):\n",
    "    if '/' in time_str:\n",
    "        numerator, denominator = time_str[:-1].split('/')\n",
    "        return round(float(numerator) / float(denominator), 3)\n",
    "    else:\n",
    "        return round(float(time_str[:-1]), 3)"
   ]
  },
  {
   "cell_type": "code",
   "execution_count": 21,
   "id": "42675b99",
   "metadata": {},
   "outputs": [
    {
     "name": "stdout",
     "output_type": "stream",
     "text": [
      "{'name': 'Speaker1', 'start': 0.076, 'duration': 1.2, 'note': \"What's this?\", 'image': '../p1.ng', 'translation': 'Что это?'}\n",
      "Speaker1: {'name': 'Speaker1', 'start': 0.076, 'duration': 1.2, 'note': \"What's this?\", 'image': '../p1.ng', 'translation': 'Что это?'}\n",
      "Speaker2: {'name': 'Speaker2', 'start': 1.3, 'duration': 1.0, 'note': 'This is a pen', 'image': '../p2.ng', 'translation': None}\n"
     ]
    }
   ],
   "source": [
    "class Speaker:\n",
    "    def __init__(self, name, start, duration, note, image, translation):\n",
    "        self.name = name\n",
    "        self.start = start\n",
    "        self.duration = duration\n",
    "        self.note = note\n",
    "        self.image = image\n",
    "        self.translation = translation\n",
    "        \n",
    "class SpeakersCollection:\n",
    "    def __init__(self):\n",
    "        self.collection = {}\n",
    "\n",
    "    def add_speaker(self, id, speaker):\n",
    "        if id not in self.collection:\n",
    "            self.collection[id] = {}\n",
    "        self.collection[id][speaker.name] = speaker\n",
    "        \n",
    "    def get_speaker(self, id, name):\n",
    "        if id in self.collection and name in self.collection[id]:\n",
    "            return self.collection[id][name]\n",
    "        else:\n",
    "            return None\n",
    "\n",
    "    def get_all_speakers_for_id(self, id):\n",
    "        if id in self.collection:\n",
    "            return self.collection[id]\n",
    "        else:\n",
    "            return None        \n",
    "        \n",
    "speakers = SpeakersCollection()\n",
    "speaker1 = Speaker('Speaker1', 0.076, 1.2, \"What's this?\", '../p1.ng', 'Что это?')\n",
    "speaker2 = Speaker('Speaker2', 1.3, 1.0, 'This is a pen', '../p2.ng', None)\n",
    "speakers.add_speaker(0, speaker1)\n",
    "speakers.add_speaker(0, speaker2)\n",
    "\n",
    "print(vars(speakers.get_speaker(0, 'Speaker1')))\n",
    "all_speakers_0 = speakers.get_all_speakers_for_id(0)\n",
    "for name, speaker in all_speakers_0.items():\n",
    "    print(f'{name}: {vars(speaker)}')\n"
   ]
  },
  {
   "cell_type": "code",
   "execution_count": 28,
   "id": "3f853634",
   "metadata": {},
   "outputs": [],
   "source": [
    "def convert_fcpxml_to_xml(fcpxml_file):\n",
    "    source = None\n",
    "    start = None\n",
    "    duration = None\n",
    "    \n",
    "    tree = ET.parse(fcpxml_file)\n",
    "    root = tree.getroot()\n",
    "    resources = root.find('resources')\n",
    "    if(resources):\n",
    "        asset = resources.find('asset')\n",
    "        if(asset is not None):\n",
    "            src = asset.attrib['src']\n",
    "            start = asset.attrib['start']\n",
    "            duration = asset.attrib['duration']\n",
    "            \n",
    "            if((src is None) or (start is None) or (duration is None)):\n",
    "                print('src or start or duration is None', fcpxml_file)\n",
    "                return None\n",
    "            \n",
    "    start = parse_time(start)\n",
    "    duration = parse_time(duration)\n",
    "            \n",
    "    spine = root.find('.//spine')\n",
    "    if(spine is None):\n",
    "        print('spine is None', fcpxml_file)\n",
    "        return None\n",
    "    \n",
    "    asset_clips = spine.findall('asset-clip')\n",
    "    \n",
    "    item_id = -1\n",
    "    speakers = SpeakersCollection()\n",
    "    \n",
    "    for asset_clip in asset_clips:\n",
    "        asset_name, asset_start, asset_duration = asset_clip.attrib['name'], asset_clip.attrib['start'], asset_clip.attrib['duration']\n",
    "        if((asset_name is None) or (asset_start is None) or (asset_duration is None)):\n",
    "            print('asset_name or asset_start or asset_duration is None', fcpxml_file)\n",
    "            return None\n",
    "\n",
    "        asset_start = parse_time(asset_start)\n",
    "        asset_duration = parse_time(asset_duration)        \n",
    "        \n",
    "        if(asset_name == 'Speaker1'):\n",
    "            item_id += 1\n",
    "        elif (asset_name != 'Speaker2'):\n",
    "            print('bad speaker name', asset_name, asset_start, item_id, fcpxml_file)\n",
    "            return None\n",
    "        \n",
    "        note, translation, image, translation = asset_clip.find('note'), asset_clip.find('translation'), \\\n",
    "                                                asset_clip.find('image'), asset_clip.find('translation')\n",
    "        \n",
    "        speaker = Speaker(name=asset_name, start=asset_start, duration=asset_duration, note=note.text, \\\n",
    "                          image=image.text, translation=translation.text)\n",
    "        speakers.add_speaker(item_id, speaker)\n",
    "            \n",
    "    return start, duration, speakers\n",
    "        "
   ]
  },
  {
   "cell_type": "code",
   "execution_count": 29,
   "id": "512f6fc7",
   "metadata": {},
   "outputs": [],
   "source": [
    "def convert_all():\n",
    "    good_counter = bad_counter = 0\n",
    "    items = os.listdir(FCPXML_BASE_DIR)\n",
    "    for item in items:\n",
    "        if(item.startswith('Part')):\n",
    "            part_path = os.path.join(FCPXML_BASE_DIR, item)\n",
    "            part_path_dirs = os.listdir(part_path)\n",
    "            for lesson_dir in part_path_dirs:\n",
    "                full_lesson_dir = os.path.join(part_path, lesson_dir)\n",
    "                if (os.path.isdir(full_lesson_dir) and lesson_dir.startswith('Lesson')):\n",
    "                    for fcpxml_file in glob.glob(os.path.join(full_lesson_dir, '*.fcpxml')):\n",
    "                        general_start, general_duration, speakers = convert_fcpxml_to_xml(fcpxml_file)\n",
    "                        if(speakers is not None):\n",
    "                            good_counter += 1                               \n",
    "                            output_root = ET.Element(\"items\", start=str(general_start), duration=str(general_duration))\n",
    "                            loc_ru_root = ET.Element(\"items\")\n",
    "                            for id, speakers in speakers.collection.items():\n",
    "                                for name, speaker in speakers.items():\n",
    "                                    output_item = ET.SubElement(output_root, \"item\", id=str(id), \\\n",
    "                                                                start=str(speaker.start), duration=str(speaker.duration))\n",
    "                                    person = ET.SubElement(output_item, \"person\")\n",
    "                                    person.text = 'Teacher' if speaker.name == 'Speaker1' else 'Student'\n",
    "                                    note = ET.SubElement(output_item, \"text\")\n",
    "                                    note.text = speaker.note\n",
    "                                    image = ET.SubElement(output_item, \"image\")\n",
    "                                    image.text = speaker.image\n",
    "                                    \n",
    "                                    loc_ru_output_item = ET.SubElement(loc_ru_root, \"item\", id=str(id))\n",
    "                                    translation = ET.SubElement(loc_ru_output_item, \"translation\")\n",
    "                                    translation.text = speaker.translation\n",
    "                                                            \n",
    "                            short_name = os.path.basename(fcpxml_file).split('.', 1)[0]\n",
    "                            output_xml = os.path.join(OUT_XML_BASE_DIR, short_name + '.xml')\n",
    "                            \n",
    "                            xml_output_string = minidom.parseString(ET.tostring(output_root)).toprettyxml(indent=\" \")\n",
    "                            with open(output_xml, \"w\", encoding='utf-8') as f:\n",
    "                                f.write(xml_output_string)\n",
    "                                \n",
    "                            output_loc_ru_xml = os.path.join(OUT_XML_BASE_DIR, short_name + '_translations_ru.xml')\n",
    "                            xml_output_string = minidom.parseString(ET.tostring(loc_ru_root)).toprettyxml(indent=\" \")\n",
    "                            with open(output_loc_ru_xml, \"w\", encoding='utf-8') as f:\n",
    "                                f.write(xml_output_string)\n",
    "                            \n",
    "                            #return\n",
    "                        else:\n",
    "                            bad_counter += 1\n",
    "\n",
    "                            \n",
    "    print(good_counter, bad_counter)\n",
    "                "
   ]
  },
  {
   "cell_type": "code",
   "execution_count": 30,
   "id": "04a3568c",
   "metadata": {
    "scrolled": true
   },
   "outputs": [
    {
     "name": "stdout",
     "output_type": "stream",
     "text": [
      "bad speaker name  22 ..\\..\\..\\CallanSpeech\\static\\Part 4\\Lesson 55\\Lesson 055.mp3.fcpxml\n"
     ]
    },
    {
     "ename": "TypeError",
     "evalue": "'str' object is not callable",
     "output_type": "error",
     "traceback": [
      "\u001b[1;31m---------------------------------------------------------------------------\u001b[0m",
      "\u001b[1;31mTypeError\u001b[0m                                 Traceback (most recent call last)",
      "Cell \u001b[1;32mIn[30], line 1\u001b[0m\n\u001b[1;32m----> 1\u001b[0m \u001b[43mconvert_all\u001b[49m\u001b[43m(\u001b[49m\u001b[43m)\u001b[49m\n",
      "Cell \u001b[1;32mIn[29], line 12\u001b[0m, in \u001b[0;36mconvert_all\u001b[1;34m()\u001b[0m\n\u001b[0;32m     10\u001b[0m \u001b[38;5;28;01mif\u001b[39;00m (os\u001b[38;5;241m.\u001b[39mpath\u001b[38;5;241m.\u001b[39misdir(full_lesson_dir) \u001b[38;5;129;01mand\u001b[39;00m lesson_dir\u001b[38;5;241m.\u001b[39mstartswith(\u001b[38;5;124m'\u001b[39m\u001b[38;5;124mLesson\u001b[39m\u001b[38;5;124m'\u001b[39m)):\n\u001b[0;32m     11\u001b[0m     \u001b[38;5;28;01mfor\u001b[39;00m fcpxml_file \u001b[38;5;129;01min\u001b[39;00m glob\u001b[38;5;241m.\u001b[39mglob(os\u001b[38;5;241m.\u001b[39mpath\u001b[38;5;241m.\u001b[39mjoin(full_lesson_dir, \u001b[38;5;124m'\u001b[39m\u001b[38;5;124m*.fcpxml\u001b[39m\u001b[38;5;124m'\u001b[39m)):\n\u001b[1;32m---> 12\u001b[0m         general_start, general_duration, speakers \u001b[38;5;241m=\u001b[39m \u001b[43mconvert_fcpxml_to_xml\u001b[49m\u001b[43m(\u001b[49m\u001b[43mfcpxml_file\u001b[49m\u001b[43m)\u001b[49m\n\u001b[0;32m     13\u001b[0m         \u001b[38;5;28;01mif\u001b[39;00m(speakers \u001b[38;5;129;01mis\u001b[39;00m \u001b[38;5;129;01mnot\u001b[39;00m \u001b[38;5;28;01mNone\u001b[39;00m):\n\u001b[0;32m     14\u001b[0m             good_counter \u001b[38;5;241m+\u001b[39m\u001b[38;5;241m=\u001b[39m \u001b[38;5;241m1\u001b[39m                               \n",
      "Cell \u001b[1;32mIn[28], line 46\u001b[0m, in \u001b[0;36mconvert_fcpxml_to_xml\u001b[1;34m(fcpxml_file)\u001b[0m\n\u001b[0;32m     44\u001b[0m \u001b[38;5;28;01melif\u001b[39;00m (asset_name \u001b[38;5;241m!=\u001b[39m \u001b[38;5;124m'\u001b[39m\u001b[38;5;124mSpeaker2\u001b[39m\u001b[38;5;124m'\u001b[39m):\n\u001b[0;32m     45\u001b[0m     \u001b[38;5;28mprint\u001b[39m(\u001b[38;5;124m'\u001b[39m\u001b[38;5;124mbad speaker name\u001b[39m\u001b[38;5;124m'\u001b[39m, asset_name, item_id, fcpxml_file)\n\u001b[1;32m---> 46\u001b[0m     \u001b[38;5;28mprint\u001b[39m(\u001b[38;5;124m'\u001b[39m\u001b[38;5;124masset_clip:\u001b[39m\u001b[38;5;124m'\u001b[39m, \u001b[43masset_clip\u001b[49m\u001b[38;5;241;43m.\u001b[39;49m\u001b[43mtext\u001b[49m\u001b[43m(\u001b[49m\u001b[43m)\u001b[49m)\n\u001b[0;32m     47\u001b[0m     \u001b[38;5;28;01mreturn\u001b[39;00m \u001b[38;5;28;01mNone\u001b[39;00m\n\u001b[0;32m     49\u001b[0m note, translation, image, translation \u001b[38;5;241m=\u001b[39m asset_clip\u001b[38;5;241m.\u001b[39mfind(\u001b[38;5;124m'\u001b[39m\u001b[38;5;124mnote\u001b[39m\u001b[38;5;124m'\u001b[39m), asset_clip\u001b[38;5;241m.\u001b[39mfind(\u001b[38;5;124m'\u001b[39m\u001b[38;5;124mtranslation\u001b[39m\u001b[38;5;124m'\u001b[39m), \\\n\u001b[0;32m     50\u001b[0m                                         asset_clip\u001b[38;5;241m.\u001b[39mfind(\u001b[38;5;124m'\u001b[39m\u001b[38;5;124mimage\u001b[39m\u001b[38;5;124m'\u001b[39m), asset_clip\u001b[38;5;241m.\u001b[39mfind(\u001b[38;5;124m'\u001b[39m\u001b[38;5;124mtranslation\u001b[39m\u001b[38;5;124m'\u001b[39m)\n",
      "\u001b[1;31mTypeError\u001b[0m: 'str' object is not callable"
     ]
    }
   ],
   "source": [
    "convert_all()"
   ]
  },
  {
   "cell_type": "code",
   "execution_count": null,
   "id": "0fb3b5dd",
   "metadata": {},
   "outputs": [],
   "source": []
  },
  {
   "cell_type": "code",
   "execution_count": null,
   "id": "49c3bc95",
   "metadata": {},
   "outputs": [],
   "source": []
  }
 ],
 "metadata": {
  "kernelspec": {
   "display_name": "Python 3 (ipykernel)",
   "language": "python",
   "name": "python3"
  },
  "language_info": {
   "codemirror_mode": {
    "name": "ipython",
    "version": 3
   },
   "file_extension": ".py",
   "mimetype": "text/x-python",
   "name": "python",
   "nbconvert_exporter": "python",
   "pygments_lexer": "ipython3",
   "version": "3.10.8"
  }
 },
 "nbformat": 4,
 "nbformat_minor": 5
}
